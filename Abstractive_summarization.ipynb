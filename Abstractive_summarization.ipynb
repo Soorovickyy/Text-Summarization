{
  "cells": [
    {
      "cell_type": "markdown",
      "metadata": {
        "id": "view-in-github",
        "colab_type": "text"
      },
      "source": [
        "<a href=\"https://colab.research.google.com/github/Surovytskyi/Text-Summarization/blob/main/Abstractive_summarization.ipynb\" target=\"_parent\"><img src=\"https://colab.research.google.com/assets/colab-badge.svg\" alt=\"Open In Colab\"/></a>"
      ]
    },
    {
      "cell_type": "code",
      "execution_count": 75,
      "metadata": {
        "id": "Z74CNuAcLGK_"
      },
      "outputs": [],
      "source": [
        "ru_original_text = '''Психолог: Добрый день, меня зовут Ирина. Ольга, у нас с вами на сегодня назначена консультация. Надеюсь, что наш разговор будет приятным и полезным. Расскажите с каким запросом вы пришли на нашу первую встречу?\n",
        "Ольга: Добрый день, это моя первая консультация в жизни. Я не особо понимаю что именно нужно говорить. Но у меня накопилось достаточно много всего и мне просто хотелось поговорить о том, что сейчас происходит с моей жизнью, ну много чего, конечно, как и у всех, все таки война, переезды, куча всего короче. Просто хотелось чтобы кто-то услышал, помог мне немного разобраться в себе.\n",
        "Психолог: Ольга, действительно сейчас многие проживают события к которым сложно быть готовым. Давайте начнем понемногу разбираться. Расскажите о себе. Где вы сейчас находитесь, в каких условиях живете, какие события происходят вокруг вас?\n",
        "Ольга: Сейчас я чувствую себя относительно в безопасности. Мы переехали из Киева на западную Украину. Здесь можно сказать, что тихо, но я не особо понимаю что происходит. Мне словно приходится начинать все с нуля. Деньги немного есть, ээээ ну там на пару месяцев хватит, но нужно искать работу. Не пойму нужно учится на новую специальность или попытаться найти работу менеджером, как раньше? Хотя кому эти менеджеры нужны, ничего толком не работает, наверно повезло людям которые сохранили работу, прям как-то радостно за них. Потерять финансовую стабильность мне реально тяжело, ждать что что-то наладится, но ничего не наладится же. Ну даже если наладится то не скоро, рада что могла себе обеспечить эту финансовую подушку. Я реально уже думала что можно и начать инвестировать но блин, реально никогда не знаешь, теперь думаю что можно было и пол года назад параллельно с подушкой все делать, но так иногда радует что хоть стабильность в деньгах есть, я все таки смогла научиться управлять немного своими финансами. Ну и новую работу искать, ну и что я тут найду? Наверно скорее всего нужно будет учить английский, вряд ли украинские компании сейчас смогут дать хорошую оплату, надо искать что-то онлайн, стабильное. Хотя какое оно стабильное, надо открывать свое дело в интернете, может делать магазин с доставкой? Да я так и не смогла этот английский выучить сколько уже ходила на курсы. Короче искать работу это мне вообще как настоящее испытание, ну и не думаю что без английского я кому-то нужна. Пока живем в бесплатном жилье, но тоже непонятно надолго это, вообще нужно ли возвращаться, в Киеве хотя бы есть дом, родные стены, ну и удобства все под рукой, но я боюсь ходить по улице вижу везде эти новости про растяжки, бомбы в молоке. Но и помощи от волонтеров больше есть и помощь с едой и вообще дома как то проще, здесь никого не знаю, но и знакомые если честно все уже разъехались и реально жизнь как с нуля. С мужем тоже сложно, постоянно приходится принимать решения, а он как будто оттягивает, но я же тоже не могу все время все делать. Короче мне реально не понятно как вообще быть, я боюсь что-то снова начинать, потому что не понятно на долго или скоро закончится. \n",
        "Психолог: Давайте выделим вопросы, которые я услышала и продолжим работу. Сейчас у вас нет основной работы для вас большой стресс искать новую, еще вы хотите вернуться в Киев, но не можете решить для себя стоит ли это сейчас делать, также вам хочется получить поддержку от мужа, но вы не можете получить той помощи на которую рассчитываете. Но самым большим испытанием для вас является то, что необходимо начать все с нуля. верно?\n",
        "Ольга: Да, но даже не сам факт начала. Понимаете я уже несколько раз все теряла и начинала \"жизнь с этого нуля\". Поэтому мне кажется тут у меня что-то вроде иммунитета. Страх не с самой необходимости, я просто реально понимаю что если я еще раз все потеряю мне может просто не хотеться что-то делать снова. Именно когда живешь в период от нуля до \"опять все хочется\" тут самое страшное. Ощущение, что теряешь время, которого и так постоянно мало, и параллельно же ничего не улучшается, тебе еще наваливается сверху, и нужно разгребать все одновременно. Теряешь дом, нет людей рядом, начинаются долги, нет уверенности в своих силах, моложе не становишься, ну и вечная конкуренция потому что у людей еще есть запал, а тебе 35 и ты такой здрасьте, я хочу заявить о себе. Я начинаю постоянно думать в какой именно момент я перестала контролировать свою жизнь? Ведь мне нравилось жить в том потоке, что происходил. Мне реально часто везло, но прям про будущее я не думала. А теперь читаю про блекауты, теории заговора, считаю остаток бюджета и на сколько мне хватит денег при разных условиях жизни, думаю нужно ли пытаюсь выделить деньги на английский, мне постоянно прилетают дополнительные расходы. Ну и если реально готовится к блекауту, то нужно сделать закупку продуктов на месяц, а если мы вернемся обратно? или останемся тут? короче куда все это девать в итоге? Я смотрю на свою дырявую финансовую подушку безопасности и судорожно понимаю что кроме всего прочего просто никакого верного решения нет. \n",
        "Психолог: решение есть всегда, задайте себе вопрос: готовы ли брать ответственность за принятые решения на себя?\n",
        "О: Я пытаюсь балансировать между личной ответственностью за свою собственную жизнь и умении договориться. Ну типа если бы я жила одна, мне не так сложно было бы. Не надо ждать коллективного решения, а сам тихо сделала и ни у кого не спрашиваешь.\n",
        "Психолог: Расскажите подробнее, я так понимаю у вас разные точки зрения на какую то ситуацию с мужем?\n",
        "О: Я реально хочу в Киев, мне там будет проще собраться с мыслями. и если бы муж помог мне и согласился бы на переезд уже было бы проще. Каждый раз с ним говорю, а он говорит ну хочешь поезжай в киев, я потом приеду. А я не хочу ехать одна, я хочу чтобы мы вдвоем поехали, потому что ну что  я там буду делать одна, мне реально надо чтобы мы или вместе были здесь или там. Короче, типа он вообще не упрощает задачу, а как будто ждет, что что-то должно случится и что-то поменяется. Но ничего же не поменяется. Я то понимаю что придется скорее всего просто жить вот так как оно есть, потому что завтра лучше не станет, и после завтра тоже. А ракета может прилететь куда угодно или не прилететь. От нас ничего не зависит. И на правительство мы влиять не можем, только свои решения принимать, ход войны поменять нереально. Но мы же семья, и мне не ясно чего мы не можем договориться о таких простых вещах, ну скажи типа нет я не хочу ехать или хочу, но через неделю. Так он мне просто говорит едь и все, а я потом что-то решу. \n",
        "Психолог:  скажите а раньше у вас возникали ситуации, когда муж оттягивал принятие решений?\n",
        "Ольга: Ну он постоянно все на последний момент откладывает, но раньше не было таких критический ситуаций и я могла подождать или делать что я хотела а там уже как было, или мы ссорились ну понятно что потом он принимал решение и позже мне было уже проще я реально никого не напрягала, а там просто все случалось, при чем он всегда понимал что поздно начал шевелится, но мне было даже смешно. Я могла потом ходить и  смеяться, типа ты же знаешь что ты вечно все тянешь, вот опять такой же случай, зачем ты ждешь. Я и с другой стороны заходила типа смотри ты ждешь, а это влияет на меня. Вот я жду например, что мы купим билеты и полетим куда-то на отдых, мы все равно покупаем и летим, но цена выше на этот самолет мы поссоримся сто раз, вот объясни в чем дело, я просто хочу понять. Потому что мне жалко и нервов и денег. А можно просто было все спокойно сделать вовремя, потому что есть понимание того что вовремя все таки существует, ну или более удачное время, типа чего не пользоваться ситуацией? Я реально не могу уже я даже иногда думаю ну может просто взять и самой себе жить, а  я не хочу жить одна, мне нравиться наши отношения если бы не это. Блин я уже иногда думаю, а если бы мы не были вместе если мне не надо было бы постоянно ждать, где бы я уже была? Потому что в постоянном ожидании чуда жить тоже не легко.\n",
        " Психолог: Расскажите а как вы представляли вашу жизнь без отношений? Вот что происходит с вами, когда вам не нужно никого ждать?\n",
        "Ольга: ну вот в том и дело, что иногда я понимаю что если бы я осталась одна мне было бы намного проще, но я хочу быть вместе с мужем, оберегать наше партнерство.  не хочу представлять, а если бы. ну нет никаких а если бы. Мне реально нравятся наши отношения, хотя такие штуки когда приходится ждать решения прям бесят. Просто сейчас как будто это повторение -- поехали в киев, нет давай ждать, хочешь едь. Такое впечатление что он хочет от меня избавится, типа я что напрягаю его? ну короче, когда я спрашиваю все ли в порядке, он говорит все хорошо, но я не чувствую что все хорошо. Может конечно я свои переживания на него перекладываю, но блин в стране которую постоянно раздирают на части ничего хорошего ждать уже не приходится. Пусть даже со мной происходят только хорошие вещи, ну насколько это реально, ну вот даже в плане денег, все есть, понятно накопления на пару месяцев, и работу все равно придется искать, я реально хочу просто определенности, в рамках своей реальности. Но полную определенность я чувствую только когда я сама себе хозяин. Может я просто не понимаю что такое жить с партнером.\n",
        " Психолог: Каждая семья строит свои взаимоотношения, нет единственного верного решения, как правильно. Но если я вас правильно услышала, то больше всего вас тревожит именно неопределенность в решениях внутри семьи, отсутствие возможности договорится. Расскажите какие эмоции вы испытываете от этой \"неопределенности\"?\n",
        "Ольга: ну если честно я уже не знаю, я типа как смирилась что ли с тем, что происходит. меня эти затяжные штуки напрягают это точно, но вот так сказать что я чувствую? я просто знаю что они бывают и мне уже изначально плохо я как будто живу с бомбой с часовым механизмом и даже не предлагаю никаких идей, не хочу снова все проживать, просто нет сил, а вот эмоции я уже  не отслеживаю просто не приятно, но так описать не могу.\n",
        "Психолог: Давайте начнем разбираться вместе? Как домашнее задание я хочу дать вам возможность разобраться в своих эмоциях, понять что вы чувствуете, каждый раз когда у вас будет возникать ситуация, где муж будет затягивать с решением, даже если это маленькая бытовая ситуация -- вам нужно будет записывать в дневник ситуацию и свои эмоции. Как вам такая идея?\n",
        "Ольга: спасибо, реально интересно чего я вообще чувствую иногда кажется что уже ничего.\n",
        "Психолог: хорошо, тогда мы определились с первым заданием и будем понемногу начинать понимать себя, спасибо за встречу.'''"
      ]
    },
    {
      "cell_type": "code",
      "execution_count": 62,
      "metadata": {
        "colab": {
          "base_uri": "https://localhost:8080/"
        },
        "id": "MEPI8QmYJ3ML",
        "outputId": "f7f762fc-8273-4961-876c-81eab12bedb0"
      },
      "outputs": [
        {
          "output_type": "stream",
          "name": "stdout",
          "text": [
            "Looking in indexes: https://pypi.org/simple, https://us-python.pkg.dev/colab-wheels/public/simple/\n",
            "Requirement already satisfied: transformers in /usr/local/lib/python3.7/dist-packages (4.19.2)\n",
            "Requirement already satisfied: sentencepiece in /usr/local/lib/python3.7/dist-packages (0.1.96)\n",
            "Collecting deep-translator\n",
            "  Downloading deep_translator-1.8.3-py3-none-any.whl (29 kB)\n",
            "Requirement already satisfied: huggingface-hub<1.0,>=0.1.0 in /usr/local/lib/python3.7/dist-packages (from transformers) (0.7.0)\n",
            "Requirement already satisfied: packaging>=20.0 in /usr/local/lib/python3.7/dist-packages (from transformers) (21.3)\n",
            "Requirement already satisfied: regex!=2019.12.17 in /usr/local/lib/python3.7/dist-packages (from transformers) (2019.12.20)\n",
            "Requirement already satisfied: importlib-metadata in /usr/local/lib/python3.7/dist-packages (from transformers) (4.11.3)\n",
            "Requirement already satisfied: numpy>=1.17 in /usr/local/lib/python3.7/dist-packages (from transformers) (1.21.6)\n",
            "Requirement already satisfied: pyyaml>=5.1 in /usr/local/lib/python3.7/dist-packages (from transformers) (6.0)\n",
            "Requirement already satisfied: tqdm>=4.27 in /usr/local/lib/python3.7/dist-packages (from transformers) (4.64.0)\n",
            "Requirement already satisfied: tokenizers!=0.11.3,<0.13,>=0.11.1 in /usr/local/lib/python3.7/dist-packages (from transformers) (0.12.1)\n",
            "Requirement already satisfied: filelock in /usr/local/lib/python3.7/dist-packages (from transformers) (3.7.0)\n",
            "Requirement already satisfied: requests in /usr/local/lib/python3.7/dist-packages (from transformers) (2.23.0)\n",
            "Requirement already satisfied: typing-extensions>=3.7.4.3 in /usr/local/lib/python3.7/dist-packages (from huggingface-hub<1.0,>=0.1.0->transformers) (4.2.0)\n",
            "Requirement already satisfied: pyparsing!=3.0.5,>=2.0.2 in /usr/local/lib/python3.7/dist-packages (from packaging>=20.0->transformers) (3.0.9)\n",
            "Collecting beautifulsoup4<5.0.0,>=4.9.1\n",
            "  Downloading beautifulsoup4-4.11.1-py3-none-any.whl (128 kB)\n",
            "\u001b[K     |████████████████████████████████| 128 kB 13.0 MB/s \n",
            "\u001b[?25hRequirement already satisfied: soupsieve>1.2 in /usr/local/lib/python3.7/dist-packages (from beautifulsoup4<5.0.0,>=4.9.1->deep-translator) (2.3.2.post1)\n",
            "Requirement already satisfied: urllib3!=1.25.0,!=1.25.1,<1.26,>=1.21.1 in /usr/local/lib/python3.7/dist-packages (from requests->transformers) (1.24.3)\n",
            "Requirement already satisfied: idna<3,>=2.5 in /usr/local/lib/python3.7/dist-packages (from requests->transformers) (2.10)\n",
            "Requirement already satisfied: chardet<4,>=3.0.2 in /usr/local/lib/python3.7/dist-packages (from requests->transformers) (3.0.4)\n",
            "Requirement already satisfied: certifi>=2017.4.17 in /usr/local/lib/python3.7/dist-packages (from requests->transformers) (2022.5.18.1)\n",
            "Requirement already satisfied: zipp>=0.5 in /usr/local/lib/python3.7/dist-packages (from importlib-metadata->transformers) (3.8.0)\n",
            "Installing collected packages: beautifulsoup4, deep-translator\n",
            "  Attempting uninstall: beautifulsoup4\n",
            "    Found existing installation: beautifulsoup4 4.6.3\n",
            "    Uninstalling beautifulsoup4-4.6.3:\n",
            "      Successfully uninstalled beautifulsoup4-4.6.3\n",
            "Successfully installed beautifulsoup4-4.11.1 deep-translator-1.8.3\n"
          ]
        }
      ],
      "source": [
        "!pip install transformers sentencepiece deep-translator"
      ]
    },
    {
      "cell_type": "code",
      "source": [
        "import nltk\n",
        "nltk.download('punkt')\n",
        "nltk.download('stopwords')\n",
        "sentences = nltk.sent_tokenize(str(ru_original_text))\n",
        "len(sentences)"
      ],
      "metadata": {
        "colab": {
          "base_uri": "https://localhost:8080/"
        },
        "id": "uje4ZqiZxNGK",
        "outputId": "ddedec3c-d948-4cbb-8a1d-b72a8f0240cd"
      },
      "execution_count": 92,
      "outputs": [
        {
          "output_type": "stream",
          "name": "stdout",
          "text": [
            "[nltk_data] Downloading package punkt to /root/nltk_data...\n",
            "[nltk_data]   Package punkt is already up-to-date!\n",
            "[nltk_data] Downloading package stopwords to /root/nltk_data...\n",
            "[nltk_data]   Package stopwords is already up-to-date!\n"
          ]
        },
        {
          "output_type": "execute_result",
          "data": {
            "text/plain": [
              "101"
            ]
          },
          "metadata": {},
          "execution_count": 92
        }
      ]
    },
    {
      "cell_type": "code",
      "source": [
        "import numpy as np\n",
        "import re\n",
        "\n",
        "stop_words = nltk.corpus.stopwords.words('russian')\n",
        "\n",
        "def normalize_document(doc):\n",
        "    # lower case and remove special characters\\whitespaces\n",
        "    doc = re.sub(r'[^а-яА-Я\\s]', '', doc, re.I|re.A)\n",
        "    doc = doc.lower()\n",
        "    doc = doc.strip()\n",
        "    # tokenize text\n",
        "    tokens = nltk.word_tokenize(doc)\n",
        "    # filter stopwords out of text\n",
        "    filtered_tokens = [token for token in tokens if token not in stop_words]\n",
        "    # re-create text from filtered tokens\n",
        "    doc = ' '.join(filtered_tokens)\n",
        "    return doc\n",
        "\n",
        "normalize_corpus = np.vectorize(normalize_document)"
      ],
      "metadata": {
        "id": "hZ7CJ9JnxalO"
      },
      "execution_count": 93,
      "outputs": []
    },
    {
      "cell_type": "code",
      "source": [
        "# normalize each sentence in the text\n",
        "norm_sentences = normalize_corpus(sentences)\n",
        "norm_sentences[:3]"
      ],
      "metadata": {
        "colab": {
          "base_uri": "https://localhost:8080/"
        },
        "id": "SgyUDVpkxiP-",
        "outputId": "82d324e3-a846-408b-9f3f-7848ad24728f"
      },
      "execution_count": 95,
      "outputs": [
        {
          "output_type": "execute_result",
          "data": {
            "text/plain": [
              "array(['психолог добрый день зовут ирина',\n",
              "       'ольга вами сегодня назначена консультация',\n",
              "       'надеюсь наш разговор приятным полезным'], dtype='<U235')"
            ]
          },
          "metadata": {},
          "execution_count": 95
        }
      ]
    },
    {
      "cell_type": "code",
      "source": [
        "# translate our text\n",
        "from deep_translator import GoogleTranslator\n",
        "\n",
        "en_original_text = ''\n",
        "for sentence in norm_sentences:\n",
        "  sent = GoogleTranslator(source='russian', target='en').translate(sentence)\n",
        "  en_original_text += sent + '. '"
      ],
      "metadata": {
        "id": "PI6tivvJuRQE"
      },
      "execution_count": 98,
      "outputs": []
    },
    {
      "cell_type": "code",
      "source": [
        "en_original_text"
      ],
      "metadata": {
        "colab": {
          "base_uri": "https://localhost:8080/",
          "height": 143
        },
        "id": "KvBxIJHuwQLz",
        "outputId": "1e2ea5a2-9027-43b2-a0b1-6628b028e6ef"
      },
      "execution_count": 99,
      "outputs": [
        {
          "output_type": "execute_result",
          "data": {
            "text/plain": [
              "\"psychologist good afternoon name is irina. Olga you have an appointment today. I hope our conversation is pleasant and useful. tell us what request came to our first meeting. olga good afternoon this is the first consultation of life. I understand exactly what needs to be said. accumulated enough just wanted to talk about what is happening in my life after all the war moves a lot shorter. I just wanted someone to hear and help me figure it out a little. psychologist olga indeed, many people live through events that are difficult to prepare. let's get started little by little. tell. what conditions you live in what events are happening around. Olga feel safe. moved from Kyiv to Western Ukraine. say quietly especially understand what is happening. like you have to start from scratch. a little money, uh, a couple of months is enough, you need to look for a job. I understand I need to learn a new specialty to try to find a job as a manager earlier. although who needs managers to really work, it’s probably lucky for people who kept their jobs, somehow joyfully. losing financial stability is really hard to wait for something to get better. get better soon glad could provide a financial cushion. I really thought to start investing, damn it, you really know, I think half a year ago, parallel to making a pillow, I am happy with the stability of money, but I was able to learn how to manage my finances a little. find a new job. probably you need to learn English sooner rather than Ukrainian companies will be able to give good pay look for something stable online. although how stable it is to open your own business on the Internet to make a store with delivery. I was able to learn English how many courses I took. in short, looking for a job is generally a real test, I think someone needs English. while we live free housing it is not clear for a long time it is generally necessary to return to Kyiv, although the house is homely walls conveniences with my hand I am afraid to walk the street I see everywhere the news streaming bombs of milk. help of volunteers help with food in general at home easier than anyone I know friends honestly parted real life is zero. it’s difficult for a husband to constantly have to make decisions delays I can do it. in short, it’s really clear, I’m afraid to start something again, it’s clear, it will end soon. psychologist, let's highlight the questions that we heard, continue the work. the main job is a lot of stress to look for a new one you want to return to Kyiv you can decide whether to do it also you want to get the support of your husband you can get the help you expect. the biggest test is the need to start from scratch. right. olga fact start. understand a few wasted life started from scratch. so it seems like something like immunity. fear of necessity itself, I just really understand I will lose, I just want to do something again. you live a period of zero you want the worst. the feeling of losing time which is constantly improving a little in parallel you are piling on top you need to rake at the same time. you lose the house of people next to you, debts of self-confidence begin, you become younger, you become eternal competition of people sunk you hello, I want to declare. I start to think constantly the moment I ceased to control life. liked to live the flow happened. really often lucky straight future thought. I read conspiracy theory blackouts I consider the balance of the budget How much money is enough Different living conditions I think I need to try to allocate money English Additional expenses constantly arrive. really getting ready to blackout need to make a purchase of groceries for a month we'll be back. stay. in short, this is the end result. I watch a leaky financial airbag, frantically understand, among other things, there is simply no right decision. psychologist decision ask question ready to take responsibility decisions taken. I try to balance my own life with personal responsibility, the ability to negotiate. type lived alone difficult. wait for a collective decision quietly made who you ask. psychologist tell me in more detail I understand different points of view what situation my husband. I really want Kyiv to gather my thoughts easier. husband helped agreed moving easier. everyone says if you want to go Kyiv I will come. I want to go alone I want to go together I'll do it alone really together. in short, the type generally simplifies the task of waiting for something to happen, something will change. will change. I understand I’ll have to rather just live it will become tomorrow. rocket fly fly fly. depends. the government can influence our decisions, make the course of the war, it is unrealistic to change. family can clearly agree on such simple things say like I want to go I want a week. just says go decide something. psychologist tell me before there were situations my husband delayed decision making. olga constantly puts off the last moment before such critical situations could wait to do wanted to quarrel understandably made a decision later easier really strained anyone just happened to understand late started moving funny. could go laughing like you know you always pull the case you wait. side came in like look wait it affects. I’m waiting, for example, we’ll buy tickets, we’ll fly somewhere, we’ll rest, we’ll buy, we’ll fly, the price is higher, the plane, we’ll quarrel a hundred, explain the matter, I just want to understand. sorry nerves money. just calmly do it in time understanding in time there is a good time like taking advantage of the situation. I really can think just take myself to live I want to live alone I like our relationship this. Damn I think together constantly wait. constant expectation of a miracle to live easily. psychologist tell represented your relationship life. going on you gotta wait for nobody. Olga I understand the matter, I was left alone much easier, I want to protect our partnership together with my husband. want to represent. none. I really like our relationship, although such things have to wait for a decision, they really piss me off. it's just a repetition let's go cues let's wait if you want to go. such an impression wants to get rid of the type of straining. in short ask ok says feel. I shift my feelings to a country that is constantly being torn apart by parts of the good, you have to wait. let good things happen to me how realistic it is in terms of money, it’s understandable to accumulate a couple of months of work, I’ll still have to look for real, I just want certainty within the framework of my reality. full certainty feel myself the owner. I just understand how to live as a partner. psychologist each family builds their relationship the only right decision correctly. heard correctly, it is precisely the uncertainty of decisions within the family that worries the lack of an opportunity to agree. tell us what emotions you experience uncertainty. Olga honestly know the type of resigned is happening. lingering things strain it exactly say feel. I just know it happens initially I live badly as a clockwork bomb I offer no ideas I want to live again I just keep track of the forces of emotions I just pleasantly describe I can. psychologist let's start to figure it out together. homework I want to give the opportunity to sort out my emotions to understand you feel every situation arise husband delay the decision this is a small everyday situation you need to write down a diary situation your emotions. such an idea. thank you olga really interesting i feel it seems. the psychologist decided on the first task, we will gradually begin to understand thank you meeting. \""
            ],
            "application/vnd.google.colaboratory.intrinsic+json": {
              "type": "string"
            }
          },
          "metadata": {},
          "execution_count": 99
        }
      ]
    },
    {
      "cell_type": "markdown",
      "metadata": {
        "id": "ee9T3cyL21df"
      },
      "source": [
        "BART"
      ]
    },
    {
      "cell_type": "code",
      "execution_count": 114,
      "metadata": {
        "id": "PFtVY5Fb2uz_"
      },
      "outputs": [],
      "source": [
        "# Importing the model\n",
        "from transformers import BartForConditionalGeneration, BartTokenizer, BartConfig"
      ]
    },
    {
      "cell_type": "code",
      "execution_count": 115,
      "metadata": {
        "id": "L73q4xYP3PiL"
      },
      "outputs": [],
      "source": [
        "# Loading the model and tokenizer for bart-large-cnn\n",
        "\n",
        "tokenizer=BartTokenizer.from_pretrained('facebook/bart-large-cnn')\n",
        "model=BartForConditionalGeneration.from_pretrained('facebook/bart-large-cnn')"
      ]
    },
    {
      "cell_type": "code",
      "execution_count": 122,
      "metadata": {
        "id": "Qu50Junz3VTr"
      },
      "outputs": [],
      "source": [
        "# Encoding the inputs and passing them to model.generate()\n",
        "inputs = tokenizer.batch_encode_plus([en_original_text],return_tensors='pt', max_length=1024)\n",
        "summary_ids = model.generate(inputs['input_ids'], early_stopping=True, num_beams=10, max_length=400, min_length=200, top_k=100)"
      ]
    },
    {
      "cell_type": "code",
      "execution_count": 123,
      "metadata": {
        "colab": {
          "base_uri": "https://localhost:8080/"
        },
        "id": "ebCja3e34DDN",
        "outputId": "b8205b8c-482c-4760-c6f0-3cbb80bfbfce"
      },
      "outputs": [
        {
          "output_type": "stream",
          "name": "stdout",
          "text": [
            "Psychologist irina. Olga moved from Kyiv to Western Ukraine. She wanted to talk about what is happening in her life after all the war moves a lot shorter. She was able to learn how to manage her finances a little. Looking for a job is generally a real test, I think someone needs English. While we live free housing it is not clear for a long time it is generally necessary to return to Kyiv. Although the house is homely walls conveniences with my hand. I am afraid to walk the street I see everywhere the news streaming bombs of milk. I start to think constantly the moment I ceased to control life the flow happened. I read conspiracy theory blackouts I consider the balance of the budget How much money is enough Different living conditions I think I need to try to allocate money English. Additional expenses constantly arrive. really getting ready to blackout need to make a purchase of groceries for a month we'll be back. stay. in short, this is the end result. I watch a leaky financial airbag, frantically understand.\n"
          ]
        }
      ],
      "source": [
        "# Decoding and printing the summary\n",
        "bart_summary = tokenizer.decode(summary_ids[0], skip_special_tokens=True)\n",
        "print(bart_summary)"
      ]
    },
    {
      "cell_type": "code",
      "source": [
        "output_sum = GoogleTranslator(source='en', target='ru').translate(bart_summary)\n",
        "output_sum"
      ],
      "metadata": {
        "colab": {
          "base_uri": "https://localhost:8080/",
          "height": 125
        },
        "id": "YxBYs00C3ZWc",
        "outputId": "60a02c88-aab3-4f58-cf19-92e5bd15d488"
      },
      "execution_count": 124,
      "outputs": [
        {
          "output_type": "execute_result",
          "data": {
            "text/plain": [
              "'Психолог Ирина. Ольга переехала из Киева в Западную Украину. Она хотела рассказать о том, что происходит в ее жизни после того, как война движется намного короче. Она смогла немного научиться управлять своими финансами. Поиск работы — это вообще настоящее испытание, думаю, кому-то нужен английский. Пока живем на бесплатном жилье непонятно давно надо вообще в Киев возвращаться. Хотя в доме невзрачные стены с удобствами с моей стороны. Я боюсь ходить по улице, вижу везде новости, льющиеся бомбы молока. Я начинаю постоянно думать, как только я перестал контролировать жизнь, произошел поток. Читаю конспирологию блэкауты Считаю остаток бюджета Сколько денег хватит Разные условия жизни Думаю надо попробовать выделить деньги Английский. Постоянно поступают дополнительные расходы. действительно готовимся к отключению электроэнергии нужно сделать закупку продуктов на месяц мы еще вернемся. остаться. короче, это конечный результат. Смотрю на дырявую финансовую подушку безопасности, судорожно понимаю.'"
            ],
            "application/vnd.google.colaboratory.intrinsic+json": {
              "type": "string"
            }
          },
          "metadata": {},
          "execution_count": 124
        }
      ]
    }
  ],
  "metadata": {
    "accelerator": "GPU",
    "colab": {
      "name": "Abstractive-summarization.ipynb",
      "provenance": [],
      "authorship_tag": "ABX9TyP7H/NDXkWoK5R02PGFdvlj",
      "include_colab_link": true
    },
    "kernelspec": {
      "display_name": "Python 3",
      "name": "python3"
    },
    "language_info": {
      "name": "python"
    }
  },
  "nbformat": 4,
  "nbformat_minor": 0
}